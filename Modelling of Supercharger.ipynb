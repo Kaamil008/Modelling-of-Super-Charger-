{
 "cells": [
  {
   "cell_type": "code",
   "execution_count": 1,
   "id": "e0987b12",
   "metadata": {},
   "outputs": [],
   "source": [
    "#Input Data"
   ]
  },
  {
   "cell_type": "markdown",
   "id": "fbd4c470",
   "metadata": {},
   "source": [
    "# Engine Parameters"
   ]
  },
  {
   "cell_type": "code",
   "execution_count": 2,
   "id": "aa1d94f9",
   "metadata": {},
   "outputs": [],
   "source": [
    "Vs = 0.0028 # Swept Volume (m^3)\n",
    "nm = 80 # Mechanical efficiency (%)\n",
    "ni = 74 # Isentropic iefficiency (%)\n",
    "Cp = 1.005 # Specific heat capacity (J/kgK)"
   ]
  },
  {
   "cell_type": "markdown",
   "id": "4ee34934",
   "metadata": {},
   "source": [
    "# Super charger"
   ]
  },
  {
   "cell_type": "code",
   "execution_count": 3,
   "id": "1b9e4eb9",
   "metadata": {},
   "outputs": [],
   "source": [
    "p1 = 1.013 # Atmospheric Pressure (bar)\n",
    "T1 = 288 #Atmospheric temperature (K)\n",
    "pr = 1.6 # Pressure Ratio\n",
    "g = 1.4 #Adiabatic gas constant\n",
    "R = 287 # Real gas constant(J/kgK)\n"
   ]
  },
  {
   "cell_type": "markdown",
   "id": "de390f01",
   "metadata": {},
   "source": [
    "# Case 1 : (At a constant enginer speed)"
   ]
  },
  {
   "cell_type": "code",
   "execution_count": 4,
   "id": "c9299cb6",
   "metadata": {},
   "outputs": [],
   "source": [
    "N=4000 # Engine Speed(rpm)\n",
    "ip=12.5 # Average indicated power (Kw/m^3)\n",
    "nv = 85 #Volumetric efficiency(%)"
   ]
  },
  {
   "cell_type": "code",
   "execution_count": 5,
   "id": "2c5eac75",
   "metadata": {},
   "outputs": [],
   "source": [
    "#Superrcharger pressure output\n",
    "p2 = pr*p1 #(bar)\n",
    "#Engine temperature output\n",
    "T21 = T1*(p2/p1)**((g-1)/g)\n",
    "#supercharger temp outputt\n",
    "T2 = T1+((T21-T1)/(ni/100))\n",
    "#Piston swept volume\n",
    "Vs1 = (Vs*(N/2))\n",
    "#Equivalent volume\n",
    "Ve = (Vs1*p2*T1)/(T2*p1)\n",
    "#Volumetric efficiency of supercharger\n",
    "nv1 = (Ve/Vs1)*100"
   ]
  },
  {
   "cell_type": "code",
   "execution_count": 6,
   "id": "a43cad87",
   "metadata": {},
   "outputs": [],
   "source": [
    "#Unsupercharged induced volume\n",
    "Vi = Vs1*(nv/100)\n",
    "#increment in the induced volume\n",
    "Vii = Ve - Vi\n",
    "#Increment in the indicated power due to vol of air\n",
    "ipa = ip*Vii\n",
    "#Increment in the indicated power due to pressure of the air\n",
    "ipi = ((p2-p1)*10**5*Vs1)/(60*1000)\n",
    "#Total increment in the induced power\n",
    "ipt = ipi + ipa "
   ]
  },
  {
   "cell_type": "code",
   "execution_count": 7,
   "id": "385d9d1d",
   "metadata": {},
   "outputs": [],
   "source": [
    "#Increment in the brake power of the engine\n",
    "bp = ipt*(nv/100)\n",
    "#Brake power without supercharger\n",
    "bpe = ip*(nm/100)\n",
    "#Mass of air delivered to supercharger\n",
    "ma = (p2*(Vs1/60)*10**5)/(R*T2)\n",
    "#Power consumed by the supercharger\n",
    "P=ma*Cp*(T2-T1)\n",
    "#Power delivered to the supercharger to run\n",
    "Pd = P/(nm/100)\n",
    "#net increment in the brake power \n",
    "bpn = bp - Pd"
   ]
  },
  {
   "cell_type": "markdown",
   "id": "54a981cd",
   "metadata": {},
   "source": [
    "# results"
   ]
  },
  {
   "cell_type": "code",
   "execution_count": 8,
   "id": "83e43119",
   "metadata": {},
   "outputs": [
    {
     "name": "stdout",
     "output_type": "stream",
     "text": [
      "Engine's Indicated power without supercharger 12.5 Kw\n",
      "Engine's Indicated power with supercharger 40 Kw\n",
      "Engine's Brake Power without the supercharger is  10 Kw\n",
      "Engine's Brake Power with the supercharger is  23 Kw\n",
      "volumetric efficiency of the engine with the supercharger is  134 %\n"
     ]
    }
   ],
   "source": [
    "print(\"Engine's Indicated power without supercharger\", ip,'Kw')\n",
    "print(\"Engine's Indicated power with supercharger\", round(ipt),'Kw')\n",
    "print(\"Engine's Brake Power without the supercharger is \", round(bpe),'Kw')\n",
    "print(\"Engine's Brake Power with the supercharger is \", round(bpn),'Kw')\n",
    "print(\"volumetric efficiency of the engine with the supercharger is \", round(nv1),'%')"
   ]
  },
  {
   "cell_type": "markdown",
   "id": "44e7720b",
   "metadata": {},
   "source": [
    "# Case 2 : engine speed is varying"
   ]
  },
  {
   "cell_type": "code",
   "execution_count": 9,
   "id": "d6ca6064",
   "metadata": {},
   "outputs": [],
   "source": [
    "import pandas as pd"
   ]
  },
  {
   "cell_type": "code",
   "execution_count": 10,
   "id": "d331c9f4",
   "metadata": {},
   "outputs": [
    {
     "data": {
      "text/html": [
       "<div>\n",
       "<style scoped>\n",
       "    .dataframe tbody tr th:only-of-type {\n",
       "        vertical-align: middle;\n",
       "    }\n",
       "\n",
       "    .dataframe tbody tr th {\n",
       "        vertical-align: top;\n",
       "    }\n",
       "\n",
       "    .dataframe thead th {\n",
       "        text-align: right;\n",
       "    }\n",
       "</style>\n",
       "<table border=\"1\" class=\"dataframe\">\n",
       "  <thead>\n",
       "    <tr style=\"text-align: right;\">\n",
       "      <th></th>\n",
       "      <th>Speed (rpm)</th>\n",
       "      <th>Volumetric Efficiency (%)</th>\n",
       "      <th>Indicated Power (Kw)</th>\n",
       "    </tr>\n",
       "  </thead>\n",
       "  <tbody>\n",
       "    <tr>\n",
       "      <th>0</th>\n",
       "      <td>1000</td>\n",
       "      <td>70</td>\n",
       "      <td>10</td>\n",
       "    </tr>\n",
       "    <tr>\n",
       "      <th>1</th>\n",
       "      <td>2000</td>\n",
       "      <td>76</td>\n",
       "      <td>13</td>\n",
       "    </tr>\n",
       "    <tr>\n",
       "      <th>2</th>\n",
       "      <td>3000</td>\n",
       "      <td>80</td>\n",
       "      <td>16</td>\n",
       "    </tr>\n",
       "    <tr>\n",
       "      <th>3</th>\n",
       "      <td>4000</td>\n",
       "      <td>82</td>\n",
       "      <td>20</td>\n",
       "    </tr>\n",
       "    <tr>\n",
       "      <th>4</th>\n",
       "      <td>5000</td>\n",
       "      <td>85</td>\n",
       "      <td>21</td>\n",
       "    </tr>\n",
       "  </tbody>\n",
       "</table>\n",
       "</div>"
      ],
      "text/plain": [
       "   Speed (rpm)  Volumetric Efficiency (%)  Indicated Power (Kw)\n",
       "0         1000                         70                    10\n",
       "1         2000                         76                    13\n",
       "2         3000                         80                    16\n",
       "3         4000                         82                    20\n",
       "4         5000                         85                    21"
      ]
     },
     "execution_count": 10,
     "metadata": {},
     "output_type": "execute_result"
    }
   ],
   "source": [
    "data = pd.read_csv(\"Engine-210128-103439.csv\")\n",
    "data.head() # if number of rows is not given , it will give 5 rows"
   ]
  },
  {
   "cell_type": "code",
   "execution_count": 11,
   "id": "66e2302b",
   "metadata": {},
   "outputs": [
    {
     "data": {
      "text/html": [
       "<div>\n",
       "<style scoped>\n",
       "    .dataframe tbody tr th:only-of-type {\n",
       "        vertical-align: middle;\n",
       "    }\n",
       "\n",
       "    .dataframe tbody tr th {\n",
       "        vertical-align: top;\n",
       "    }\n",
       "\n",
       "    .dataframe thead th {\n",
       "        text-align: right;\n",
       "    }\n",
       "</style>\n",
       "<table border=\"1\" class=\"dataframe\">\n",
       "  <thead>\n",
       "    <tr style=\"text-align: right;\">\n",
       "      <th></th>\n",
       "      <th>Speed (rpm)</th>\n",
       "      <th>Volumetric Efficiency (%)</th>\n",
       "      <th>Indicated Power (Kw)</th>\n",
       "    </tr>\n",
       "  </thead>\n",
       "  <tbody>\n",
       "    <tr>\n",
       "      <th>0</th>\n",
       "      <td>1000</td>\n",
       "      <td>70</td>\n",
       "      <td>10</td>\n",
       "    </tr>\n",
       "    <tr>\n",
       "      <th>1</th>\n",
       "      <td>2000</td>\n",
       "      <td>76</td>\n",
       "      <td>13</td>\n",
       "    </tr>\n",
       "    <tr>\n",
       "      <th>2</th>\n",
       "      <td>3000</td>\n",
       "      <td>80</td>\n",
       "      <td>16</td>\n",
       "    </tr>\n",
       "    <tr>\n",
       "      <th>3</th>\n",
       "      <td>4000</td>\n",
       "      <td>82</td>\n",
       "      <td>20</td>\n",
       "    </tr>\n",
       "    <tr>\n",
       "      <th>4</th>\n",
       "      <td>5000</td>\n",
       "      <td>85</td>\n",
       "      <td>21</td>\n",
       "    </tr>\n",
       "    <tr>\n",
       "      <th>5</th>\n",
       "      <td>6000</td>\n",
       "      <td>86</td>\n",
       "      <td>22</td>\n",
       "    </tr>\n",
       "    <tr>\n",
       "      <th>6</th>\n",
       "      <td>7000</td>\n",
       "      <td>88</td>\n",
       "      <td>24</td>\n",
       "    </tr>\n",
       "    <tr>\n",
       "      <th>7</th>\n",
       "      <td>8000</td>\n",
       "      <td>90</td>\n",
       "      <td>26</td>\n",
       "    </tr>\n",
       "    <tr>\n",
       "      <th>8</th>\n",
       "      <td>9000</td>\n",
       "      <td>91</td>\n",
       "      <td>28</td>\n",
       "    </tr>\n",
       "    <tr>\n",
       "      <th>9</th>\n",
       "      <td>10000</td>\n",
       "      <td>93</td>\n",
       "      <td>30</td>\n",
       "    </tr>\n",
       "  </tbody>\n",
       "</table>\n",
       "</div>"
      ],
      "text/plain": [
       "   Speed (rpm)  Volumetric Efficiency (%)  Indicated Power (Kw)\n",
       "0         1000                         70                    10\n",
       "1         2000                         76                    13\n",
       "2         3000                         80                    16\n",
       "3         4000                         82                    20\n",
       "4         5000                         85                    21\n",
       "5         6000                         86                    22\n",
       "6         7000                         88                    24\n",
       "7         8000                         90                    26\n",
       "8         9000                         91                    28\n",
       "9        10000                         93                    30"
      ]
     },
     "execution_count": 11,
     "metadata": {},
     "output_type": "execute_result"
    }
   ],
   "source": [
    "data.head(n=15)"
   ]
  },
  {
   "cell_type": "code",
   "execution_count": 12,
   "id": "f2b6f9e7",
   "metadata": {},
   "outputs": [
    {
     "name": "stdout",
     "output_type": "stream",
     "text": [
      "0     1.4\n",
      "1     2.8\n",
      "2     4.2\n",
      "3     5.6\n",
      "4     7.0\n",
      "5     8.4\n",
      "6     9.8\n",
      "7    11.2\n",
      "8    12.6\n",
      "9    14.0\n",
      "Name: Speed (rpm), dtype: float64\n"
     ]
    }
   ],
   "source": [
    "#Superrcharger pressure output\n",
    "p2 = pr*p1 #(bar)\n",
    "#Engine temperature output\n",
    "T21 = T1*(p2/p1)**((g-1)/g)\n",
    "#supercharger temp outputt\n",
    "T2 = T1+((T21-T1)/(ni/100))\n",
    "#Piston swept volume\n",
    "Vs1 = (Vs*(data['Speed (rpm)']/2))\n",
    "#Equivalent volume\n",
    "Ve = (Vs1*p2*T1)/(T2*p1)\n",
    "#Volumetric efficiency of supercharger\n",
    "nv1 = (Ve/Vs1)*100\n",
    "print(Vs1)"
   ]
  },
  {
   "cell_type": "code",
   "execution_count": 13,
   "id": "a157d953",
   "metadata": {},
   "outputs": [
    {
     "data": {
      "text/html": [
       "<div>\n",
       "<style scoped>\n",
       "    .dataframe tbody tr th:only-of-type {\n",
       "        vertical-align: middle;\n",
       "    }\n",
       "\n",
       "    .dataframe tbody tr th {\n",
       "        vertical-align: top;\n",
       "    }\n",
       "\n",
       "    .dataframe thead th {\n",
       "        text-align: right;\n",
       "    }\n",
       "</style>\n",
       "<table border=\"1\" class=\"dataframe\">\n",
       "  <thead>\n",
       "    <tr style=\"text-align: right;\">\n",
       "      <th></th>\n",
       "      <th>Speed (rpm)</th>\n",
       "      <th>Volumetric Efficiency (%)</th>\n",
       "      <th>Indicated Power (Kw)</th>\n",
       "      <th>Total Indicated Power(Kw)</th>\n",
       "    </tr>\n",
       "  </thead>\n",
       "  <tbody>\n",
       "    <tr>\n",
       "      <th>0</th>\n",
       "      <td>1000</td>\n",
       "      <td>70</td>\n",
       "      <td>10</td>\n",
       "      <td>10.375257</td>\n",
       "    </tr>\n",
       "    <tr>\n",
       "      <th>1</th>\n",
       "      <td>2000</td>\n",
       "      <td>76</td>\n",
       "      <td>13</td>\n",
       "      <td>23.940748</td>\n",
       "    </tr>\n",
       "    <tr>\n",
       "      <th>2</th>\n",
       "      <td>3000</td>\n",
       "      <td>80</td>\n",
       "      <td>16</td>\n",
       "      <td>40.528472</td>\n",
       "    </tr>\n",
       "    <tr>\n",
       "      <th>3</th>\n",
       "      <td>4000</td>\n",
       "      <td>82</td>\n",
       "      <td>20</td>\n",
       "      <td>63.889254</td>\n",
       "    </tr>\n",
       "    <tr>\n",
       "      <th>4</th>\n",
       "      <td>5000</td>\n",
       "      <td>85</td>\n",
       "      <td>21</td>\n",
       "      <td>79.090096</td>\n",
       "    </tr>\n",
       "  </tbody>\n",
       "</table>\n",
       "</div>"
      ],
      "text/plain": [
       "   Speed (rpm)  Volumetric Efficiency (%)  Indicated Power (Kw)  \\\n",
       "0         1000                         70                    10   \n",
       "1         2000                         76                    13   \n",
       "2         3000                         80                    16   \n",
       "3         4000                         82                    20   \n",
       "4         5000                         85                    21   \n",
       "\n",
       "   Total Indicated Power(Kw)  \n",
       "0                  10.375257  \n",
       "1                  23.940748  \n",
       "2                  40.528472  \n",
       "3                  63.889254  \n",
       "4                  79.090096  "
      ]
     },
     "execution_count": 13,
     "metadata": {},
     "output_type": "execute_result"
    }
   ],
   "source": [
    "#Unsupercharged induced volume\n",
    "Vi = Vs1*(data['Volumetric Efficiency (%)']/100)\n",
    "#increment in the induced volume\n",
    "Vii = Ve - Vi\n",
    "#Increment in the indicated power due to vol of air\n",
    "ipa = data['Indicated Power (Kw)']*Vii\n",
    "#Increment in the indicated power due to pressure of the air\n",
    "ipi = ((p2-p1)*10**5*Vs1)/(60*1000)\n",
    "#Total increment in the induced power\n",
    "data['Total Indicated Power(Kw)'] = ipi + ipa \n",
    "data.head()"
   ]
  },
  {
   "cell_type": "code",
   "execution_count": 18,
   "id": "1b2fe521",
   "metadata": {},
   "outputs": [],
   "source": [
    "#Increment in the brake power of the engine\n",
    "bp = data['Total Indicated Power(Kw)']*(nm/100)\n",
    "#Brake power without supercharger\n",
    "data['Brake power without supercharger (Kw)'] = data['Indicated Power (Kw)']*(nm/100)\n",
    "#Mass of air delivered to supercharger\n",
    "ma = (p2*(Vs1/60)*10**5)/(R*T2)\n",
    "#Power consumed by the supercharger\n",
    "P=ma*Cp*(T2-T1)\n",
    "#Power delivered to the supercharger to run\n",
    "Pd = P/(nm/100)\n",
    "#net increment in the brake power \n",
    "data['Net Increment in the brake power (Kw)'] = bp - Pd"
   ]
  },
  {
   "cell_type": "code",
   "execution_count": 22,
   "id": "099af14c",
   "metadata": {},
   "outputs": [
    {
     "data": {
      "text/html": [
       "<div>\n",
       "<style scoped>\n",
       "    .dataframe tbody tr th:only-of-type {\n",
       "        vertical-align: middle;\n",
       "    }\n",
       "\n",
       "    .dataframe tbody tr th {\n",
       "        vertical-align: top;\n",
       "    }\n",
       "\n",
       "    .dataframe thead th {\n",
       "        text-align: right;\n",
       "    }\n",
       "</style>\n",
       "<table border=\"1\" class=\"dataframe\">\n",
       "  <thead>\n",
       "    <tr style=\"text-align: right;\">\n",
       "      <th></th>\n",
       "      <th>Speed (rpm)</th>\n",
       "      <th>Volumetric Efficiency (%)</th>\n",
       "      <th>Indicated Power (Kw)</th>\n",
       "      <th>Total Indicated Power(Kw)</th>\n",
       "      <th>Brake power without supercharger (Kw)</th>\n",
       "      <th>Net Increment in the brake power (Kw)</th>\n",
       "    </tr>\n",
       "  </thead>\n",
       "  <tbody>\n",
       "    <tr>\n",
       "      <th>0</th>\n",
       "      <td>1000</td>\n",
       "      <td>70</td>\n",
       "      <td>10</td>\n",
       "      <td>10.375257</td>\n",
       "      <td>8.0</td>\n",
       "      <td>5.608021</td>\n",
       "    </tr>\n",
       "    <tr>\n",
       "      <th>1</th>\n",
       "      <td>2000</td>\n",
       "      <td>76</td>\n",
       "      <td>13</td>\n",
       "      <td>23.940748</td>\n",
       "      <td>10.4</td>\n",
       "      <td>13.768230</td>\n",
       "    </tr>\n",
       "    <tr>\n",
       "      <th>2</th>\n",
       "      <td>3000</td>\n",
       "      <td>80</td>\n",
       "      <td>16</td>\n",
       "      <td>40.528472</td>\n",
       "      <td>12.8</td>\n",
       "      <td>24.346225</td>\n",
       "    </tr>\n",
       "    <tr>\n",
       "      <th>3</th>\n",
       "      <td>4000</td>\n",
       "      <td>82</td>\n",
       "      <td>20</td>\n",
       "      <td>63.889254</td>\n",
       "      <td>16.0</td>\n",
       "      <td>40.342666</td>\n",
       "    </tr>\n",
       "    <tr>\n",
       "      <th>4</th>\n",
       "      <td>5000</td>\n",
       "      <td>85</td>\n",
       "      <td>21</td>\n",
       "      <td>79.090096</td>\n",
       "      <td>16.8</td>\n",
       "      <td>49.811156</td>\n",
       "    </tr>\n",
       "    <tr>\n",
       "      <th>5</th>\n",
       "      <td>6000</td>\n",
       "      <td>86</td>\n",
       "      <td>22</td>\n",
       "      <td>97.174349</td>\n",
       "      <td>17.6</td>\n",
       "      <td>61.586374</td>\n",
       "    </tr>\n",
       "    <tr>\n",
       "      <th>6</th>\n",
       "      <td>7000</td>\n",
       "      <td>88</td>\n",
       "      <td>24</td>\n",
       "      <td>118.069953</td>\n",
       "      <td>19.2</td>\n",
       "      <td>75.610673</td>\n",
       "    </tr>\n",
       "    <tr>\n",
       "      <th>7</th>\n",
       "      <td>8000</td>\n",
       "      <td>90</td>\n",
       "      <td>26</td>\n",
       "      <td>139.412381</td>\n",
       "      <td>20.8</td>\n",
       "      <td>89.992430</td>\n",
       "    </tr>\n",
       "    <tr>\n",
       "      <th>8</th>\n",
       "      <td>9000</td>\n",
       "      <td>91</td>\n",
       "      <td>28</td>\n",
       "      <td>164.393630</td>\n",
       "      <td>22.4</td>\n",
       "      <td>107.285246</td>\n",
       "    </tr>\n",
       "    <tr>\n",
       "      <th>9</th>\n",
       "      <td>10000</td>\n",
       "      <td>93</td>\n",
       "      <td>30</td>\n",
       "      <td>186.293703</td>\n",
       "      <td>24.0</td>\n",
       "      <td>122.113120</td>\n",
       "    </tr>\n",
       "  </tbody>\n",
       "</table>\n",
       "</div>"
      ],
      "text/plain": [
       "   Speed (rpm)  Volumetric Efficiency (%)  Indicated Power (Kw)  \\\n",
       "0         1000                         70                    10   \n",
       "1         2000                         76                    13   \n",
       "2         3000                         80                    16   \n",
       "3         4000                         82                    20   \n",
       "4         5000                         85                    21   \n",
       "5         6000                         86                    22   \n",
       "6         7000                         88                    24   \n",
       "7         8000                         90                    26   \n",
       "8         9000                         91                    28   \n",
       "9        10000                         93                    30   \n",
       "\n",
       "   Total Indicated Power(Kw)  Brake power without supercharger (Kw)  \\\n",
       "0                  10.375257                                    8.0   \n",
       "1                  23.940748                                   10.4   \n",
       "2                  40.528472                                   12.8   \n",
       "3                  63.889254                                   16.0   \n",
       "4                  79.090096                                   16.8   \n",
       "5                  97.174349                                   17.6   \n",
       "6                 118.069953                                   19.2   \n",
       "7                 139.412381                                   20.8   \n",
       "8                 164.393630                                   22.4   \n",
       "9                 186.293703                                   24.0   \n",
       "\n",
       "   Net Increment in the brake power (Kw)  \n",
       "0                               5.608021  \n",
       "1                              13.768230  \n",
       "2                              24.346225  \n",
       "3                              40.342666  \n",
       "4                              49.811156  \n",
       "5                              61.586374  \n",
       "6                              75.610673  \n",
       "7                              89.992430  \n",
       "8                             107.285246  \n",
       "9                             122.113120  "
      ]
     },
     "execution_count": 22,
     "metadata": {},
     "output_type": "execute_result"
    }
   ],
   "source": [
    "#Viewing teh data\n",
    "data.head(10)"
   ]
  },
  {
   "cell_type": "markdown",
   "id": "636d2565",
   "metadata": {},
   "source": [
    "# Plotting\n",
    "Indicated Power and Brake Power with respect to your Engine's speed"
   ]
  },
  {
   "cell_type": "code",
   "execution_count": 20,
   "id": "2d853dc8",
   "metadata": {},
   "outputs": [],
   "source": [
    "import matplotlib.pyplot as plt"
   ]
  },
  {
   "cell_type": "code",
   "execution_count": 31,
   "id": "3bf96c86",
   "metadata": {},
   "outputs": [
    {
     "data": {
      "image/png": "[encoded data removed]",
      "text/plain": [
       "<Figure size 640x480 with 1 Axes>"
      ]
     },
     "metadata": {},
     "output_type": "display_data"
    }
   ],
   "source": [
    "plt.plot(data['Speed (rpm)'], data['Brake power without supercharger (Kw)'],'r',label='BP without supercharger')\n",
    "plt.plot(data['Speed (rpm)'], data['Indicated Power (Kw)'],'g',label='Indicated Power without supercharger')\n",
    "plt.title(\"IP and BP of Enginer without supercharger\")\n",
    "plt.xlabel(\"Engine's Speed(rpm)\")\n",
    "plt.ylabel(\"Power (Kw)\")\n",
    "plt.legend(loc='best') #Location is upperleft\n",
    "plt.show()"
   ]
  },
  {
   "cell_type": "code",
   "execution_count": 36,
   "id": "d58f2853",
   "metadata": {},
   "outputs": [
    {
     "data": {
      "image/png": "[encoded data removed]",
      "text/plain": [
       "<Figure size 640x480 with 1 Axes>"
      ]
     },
     "metadata": {},
     "output_type": "display_data"
    }
   ],
   "source": [
    "plt.plot(data['Speed (rpm)'], data['Net Increment in the brake power (Kw)'],'--r',label='BP with supercharger')\n",
    "plt.plot(data['Speed (rpm)'], data['Brake power without supercharger (Kw)'],'r',label='BP without supercharger')\n",
    "plt.plot(data['Speed (rpm)'], data['Total Indicated Power(Kw)'],'--g',label='Indicated Power with supercharger')\n",
    "plt.plot(data['Speed (rpm)'], data['Indicated Power (Kw)'],'g',label='Indicated Power without supercharger')\n",
    "plt.title(\"IP and BP of Enginer with and without supercharger supercharger\")\n",
    "plt.xlabel(\"Engine's Speed(rpm)\")\n",
    "plt.ylabel(\"Power (Kw)\")\n",
    "plt.legend(loc='best') #Location is upperleft\n",
    "plt.show()\n"
   ]
  },
  {
   "cell_type": "code",
   "execution_count": null,
   "id": "2911417b",
   "metadata": {},
   "outputs": [],
   "source": []
  }
 ],
 "metadata": {
  "kernelspec": {
   "display_name": "Python 3 (ipykernel)",
   "language": "python",
   "name": "python3"
  },
  "language_info": {
   "codemirror_mode": {
    "name": "ipython",
    "version": 3
   },
   "file_extension": ".py",
   "mimetype": "text/x-python",
   "name": "python",
   "nbconvert_exporter": "python",
   "pygments_lexer": "ipython3",
   "version": "3.9.13"
  }
 },
 "nbformat": 4,
 "nbformat_minor": 5
}
